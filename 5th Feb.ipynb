{
 "cells": [
  {
   "cell_type": "markdown",
   "id": "a07f7aa1",
   "metadata": {},
   "source": [
    "Q1. Explain Class and Object with respect to Object-Oriented Programming. Give a suitable example."
   ]
  },
  {
   "cell_type": "raw",
   "id": "f59770d5",
   "metadata": {},
   "source": [
    "Class: A class in python's object oriented programming is the blueprint or classification of real world entities.It provides a means of bundling data and functionality together.\n",
    "Oject: An object in python's obejct oriented programming is the real world entity itself.An Object is an instance of a Class.An instance is a copy of the class with actual values."
   ]
  },
  {
   "cell_type": "code",
   "execution_count": 1,
   "id": "ffa0f429",
   "metadata": {},
   "outputs": [],
   "source": [
    "#Example:\n",
    "class pwskills():#Constructing a class named pwskills which passes the details of the students\n",
    "    \n",
    "    def __init__(self, phone_number, email_id, student_id):#Creating a constructor function which passes the basic details of the student \n",
    "        self.phone_number = phone_number\n",
    "        self.email_id = email_id\n",
    "        self.student_id = student_id\n",
    "        \n",
    "    def return_student_details(self):\n",
    "        return self.student_id, self.email_id, self.phone_number        "
   ]
  },
  {
   "cell_type": "code",
   "execution_count": 2,
   "id": "c5af71ca",
   "metadata": {},
   "outputs": [],
   "source": [
    "rohan = pwskills(726328372, \"rohan@gmail.com\", 324)#Here rohan is an object"
   ]
  },
  {
   "cell_type": "code",
   "execution_count": 3,
   "id": "dfc40e23",
   "metadata": {},
   "outputs": [
    {
     "data": {
      "text/plain": [
       "726328372"
      ]
     },
     "execution_count": 3,
     "metadata": {},
     "output_type": "execute_result"
    }
   ],
   "source": [
    "rohan.phone_number"
   ]
  },
  {
   "cell_type": "markdown",
   "id": "efc79254",
   "metadata": {},
   "source": [
    "Q2. Name the four pillars of OOPs."
   ]
  },
  {
   "cell_type": "raw",
   "id": "bca6c389",
   "metadata": {},
   "source": [
    "The four pillars of OOPs are as follows:\n",
    "    1. Encapsulation: To enclose something in or as if in a capsule.\n",
    "    2. Inheritance: To receive a quality, characteristic, etc., from your parents or family.\n",
    "    3. Abstraction: A general idea rather than one that relates to a particular object, person, or situation.\n",
    "    4. Polymorphism: The condition of occurrence in several different forms."
   ]
  },
  {
   "cell_type": "markdown",
   "id": "037308fd",
   "metadata": {},
   "source": [
    "Q3. Explain why the __init__() function is used. Give a suitable example."
   ]
  },
  {
   "cell_type": "raw",
   "id": "5e018f53",
   "metadata": {},
   "source": [
    "The __init__ method is crucial in object-oriented programming in Python. It is a special method automatically called when an object is created from a class. This method allows us to initialize an object’s attributes and perform any necessary setup or initialization tasks."
   ]
  },
  {
   "cell_type": "code",
   "execution_count": 4,
   "id": "02490050",
   "metadata": {},
   "outputs": [],
   "source": [
    "#Using init function to calculate area of a circle\n",
    "class circle:\n",
    "    def __init__(self, radius):\n",
    "        self.radius = radius\n",
    "        self.area = 3.14*radius*radius"
   ]
  },
  {
   "cell_type": "code",
   "execution_count": 5,
   "id": "b6ab187c",
   "metadata": {},
   "outputs": [
    {
     "data": {
      "text/plain": [
       "3629.84"
      ]
     },
     "execution_count": 5,
     "metadata": {},
     "output_type": "execute_result"
    }
   ],
   "source": [
    "Circle1 = circle(34)\n",
    "Circle1.area"
   ]
  },
  {
   "cell_type": "markdown",
   "id": "c7eb960e",
   "metadata": {},
   "source": [
    "Q4. Why self is used in OOPs?"
   ]
  },
  {
   "cell_type": "raw",
   "id": "4c8bec67",
   "metadata": {},
   "source": [
    "1. Accessing instance variables and methods: “self” is used to access and manipulate the instance variables and methods within a    class. Without “self,” it would be impossible to differentiate between instance variables and class variables or methods.\n",
    "2. Creating new instance variables: “self” can also be used to create new instance variables dynamically, which can be useful in    some situations.\n",
    "3. Instance method parameter: In Python, instance methods take “self” as the first parameter, which is used to pass the instance    to the method. This allows the method to access and manipulate the instance variables and methods within the class.\n",
    "4. Object-oriented programming: The use of “self” is fundamental to object-oriented programming in Python. In OOP, objects are      created from classes, and “self” is used to refer to the specific instance of the class being manipulated."
   ]
  },
  {
   "cell_type": "markdown",
   "id": "6005e48b",
   "metadata": {},
   "source": [
    "Q5. What is inheritance? Give an example for each type of inheritance."
   ]
  },
  {
   "cell_type": "raw",
   "id": "547efdf4",
   "metadata": {},
   "source": [
    "Inheritance allows us to define a class that inherits all the methods and properties from another class.\n",
    "Parent class is the class being inherited from, also called base class.\n",
    "Child class is the class that inherits from another class, also called derived class."
   ]
  },
  {
   "cell_type": "code",
   "execution_count": 6,
   "id": "4270dadc",
   "metadata": {},
   "outputs": [
    {
     "name": "stdout",
     "output_type": "stream",
     "text": [
      "This function is in parent class.\n",
      "This function is in child class.\n"
     ]
    }
   ],
   "source": [
    "# single inheritance\n",
    "#Single inheritance enables a derived class to inherit properties from\n",
    "#a single parent class, thus enabling code reusability and the addition of new features to existing code.\n",
    " \n",
    "# Base class\n",
    "class Parent:\n",
    "    def func1(self):\n",
    "        print(\"This function is in parent class.\") \n",
    "# Derived class\n",
    "class Child(Parent):\n",
    "    def func2(self):\n",
    "        print(\"This function is in child class.\")\n",
    "object = Child()\n",
    "object.func1()\n",
    "object.func2()"
   ]
  },
  {
   "cell_type": "code",
   "execution_count": 7,
   "id": "0aa8f186",
   "metadata": {},
   "outputs": [
    {
     "name": "stdout",
     "output_type": "stream",
     "text": [
      "Father : RAM\n",
      "Mother : SITA\n"
     ]
    }
   ],
   "source": [
    "# multiple inheritance\n",
    "#When a class can be derived from more than one base class this type of inheritance is called multiple inheritances.\n",
    "#In multiple inheritances, all the features of the base classes are inherited into the derived class. \n",
    " \n",
    "# Base class1\n",
    "class Mother:\n",
    "    mothername = \"\"\n",
    " \n",
    "    def mother(self):\n",
    "        print(self.mothername)\n",
    "# Base class2\n",
    " \n",
    "class Father:\n",
    "    fathername = \"\"\n",
    " \n",
    "    def father(self):\n",
    "        print(self.fathername)\n",
    "#Derived class\n",
    "\n",
    "class Son(Mother, Father):\n",
    "    def parents(self):\n",
    "        print(\"Father :\", self.fathername)\n",
    "        print(\"Mother :\", self.mothername)\n",
    "s1 = Son()\n",
    "s1.fathername = \"RAM\"\n",
    "s1.mothername = \"SITA\"\n",
    "s1.parents()"
   ]
  },
  {
   "cell_type": "code",
   "execution_count": 8,
   "id": "39f2c7fb",
   "metadata": {},
   "outputs": [
    {
     "name": "stdout",
     "output_type": "stream",
     "text": [
      "Lal mani\n",
      "Grandfather name : Lal mani\n",
      "Father name : Rampal\n",
      "Son name : Prince\n"
     ]
    }
   ],
   "source": [
    "# multilevel inheritance\n",
    "#In multilevel inheritance, features of the base class and the derived class are \n",
    "#further inherited into the new derived class. This is similar to a relationship representing a child and a grandfather.  \n",
    "# Base class\n",
    " \n",
    "class Grandfather:\n",
    " \n",
    "    def __init__(self, grandfathername):\n",
    "        self.grandfathername = grandfathername\n",
    "#Intermediate class\n",
    " \n",
    "class Father(Grandfather):\n",
    "    def __init__(self, fathername, grandfathername):\n",
    "        self.fathername = fathername\n",
    " \n",
    "        # invoking constructor of Grandfather class\n",
    "        Grandfather.__init__(self, grandfathername)\n",
    "# Derived class\n",
    "\n",
    "class Son(Father):\n",
    "    def __init__(self, sonname, fathername, grandfathername):\n",
    "        self.sonname = sonname\n",
    " \n",
    "        # invoking constructor of Father class\n",
    "        Father.__init__(self, fathername, grandfathername)\n",
    " \n",
    "    def print_name(self):\n",
    "        print('Grandfather name :', self.grandfathername)\n",
    "        print(\"Father name :\", self.fathername)\n",
    "        print(\"Son name :\", self.sonname)\n",
    " \n",
    " \n",
    "s1 = Son('Prince', 'Rampal', 'Lal mani')\n",
    "print(s1.grandfathername)\n",
    "s1.print_name()"
   ]
  },
  {
   "cell_type": "code",
   "execution_count": 9,
   "id": "1a8a3085",
   "metadata": {},
   "outputs": [
    {
     "name": "stdout",
     "output_type": "stream",
     "text": [
      "This function is in parent class.\n",
      "This function is in child 1.\n",
      "This function is in parent class.\n",
      "This function is in child 2.\n"
     ]
    }
   ],
   "source": [
    "# Hierarchical inheritance\n",
    "#When more than one derived class are created from a single base this type of inheritance is \n",
    "#called hierarchical inheritance. In this program, we have a parent (base) class and two child (derived) classes.\n",
    "# Base class\n",
    "class Parent:\n",
    "    def func1(self):\n",
    "        print(\"This function is in parent class.\")\n",
    "# Derived class1\n",
    " \n",
    "class Child1(Parent):\n",
    "    def func2(self):\n",
    "        print(\"This function is in child 1.\")\n",
    "# Derivied class2\n",
    " \n",
    "class Child2(Parent):\n",
    "    def func3(self):\n",
    "        print(\"This function is in child 2.\")\n",
    "object1 = Child1()\n",
    "object2 = Child2()\n",
    "object1.func1()\n",
    "object1.func2()\n",
    "object2.func1()\n",
    "object2.func3()"
   ]
  },
  {
   "cell_type": "code",
   "execution_count": 10,
   "id": "8d850e1f",
   "metadata": {},
   "outputs": [
    {
     "name": "stdout",
     "output_type": "stream",
     "text": [
      "This function is in school.\n",
      "This function is in student 1. \n"
     ]
    }
   ],
   "source": [
    "# hybrid inheritance\n",
    "#Inheritance consisting of multiple types of inheritance is called hybrid inheritance.\n",
    "class School:\n",
    "    def func1(self):\n",
    "        print(\"This function is in school.\")\n",
    " \n",
    " \n",
    "class Student1(School):\n",
    "    def func2(self):\n",
    "        print(\"This function is in student 1. \")\n",
    " \n",
    " \n",
    "class Student2(School):\n",
    "    def func3(self):\n",
    "        print(\"This function is in student 2.\")\n",
    " \n",
    " \n",
    "class Student3(Student1, School):\n",
    "    def func4(self):\n",
    "        print(\"This function is in student 3.\")\n",
    "object = Student3()\n",
    "object.func1()\n",
    "object.func2()"
   ]
  }
 ],
 "metadata": {
  "kernelspec": {
   "display_name": "Python 3 (ipykernel)",
   "language": "python",
   "name": "python3"
  },
  "language_info": {
   "codemirror_mode": {
    "name": "ipython",
    "version": 3
   },
   "file_extension": ".py",
   "mimetype": "text/x-python",
   "name": "python",
   "nbconvert_exporter": "python",
   "pygments_lexer": "ipython3",
   "version": "3.10.9"
  }
 },
 "nbformat": 4,
 "nbformat_minor": 5
}
