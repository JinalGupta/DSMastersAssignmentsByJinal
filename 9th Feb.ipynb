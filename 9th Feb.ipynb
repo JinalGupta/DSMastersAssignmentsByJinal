{
 "cells": [
  {
   "cell_type": "markdown",
   "id": "cdd12a62",
   "metadata": {},
   "source": [
    "Q1. Create a vehicle class with an init method having instance variables as name _ of _ vehicle, max_speed\n",
    "and average_of vehicle."
   ]
  },
  {
   "cell_type": "code",
   "execution_count": 1,
   "id": "eb5b0c8f",
   "metadata": {},
   "outputs": [],
   "source": [
    "class vehicle:\n",
    "    \n",
    "    def __init__(self,name_of_vehicle,max_speed,average_of_vehicle):\n",
    "        self.name_of_vehicle = name_of_vehicle\n",
    "        self.max_speed = max_speed\n",
    "        self.average_of_vehicle = average_of_vehicle\n",
    "    "
   ]
  },
  {
   "cell_type": "code",
   "execution_count": 2,
   "id": "e93b90d4",
   "metadata": {},
   "outputs": [],
   "source": [
    "car = vehicle(\"Toyota\",\"180KMPH\",\"22kmph\")"
   ]
  },
  {
   "cell_type": "code",
   "execution_count": 3,
   "id": "88613c41",
   "metadata": {},
   "outputs": [
    {
     "data": {
      "text/plain": [
       "'Toyota'"
      ]
     },
     "execution_count": 3,
     "metadata": {},
     "output_type": "execute_result"
    }
   ],
   "source": [
    "car.name_of_vehicle"
   ]
  },
  {
   "cell_type": "code",
   "execution_count": 4,
   "id": "6297e48a",
   "metadata": {},
   "outputs": [
    {
     "data": {
      "text/plain": [
       "'180KMPH'"
      ]
     },
     "execution_count": 4,
     "metadata": {},
     "output_type": "execute_result"
    }
   ],
   "source": [
    "car.max_speed"
   ]
  },
  {
   "cell_type": "code",
   "execution_count": 5,
   "id": "419fb2c4",
   "metadata": {},
   "outputs": [
    {
     "data": {
      "text/plain": [
       "'22kmph'"
      ]
     },
     "execution_count": 5,
     "metadata": {},
     "output_type": "execute_result"
    }
   ],
   "source": [
    "car.average_of_vehicle"
   ]
  },
  {
   "cell_type": "markdown",
   "id": "bcfba834",
   "metadata": {},
   "source": [
    "Q2. Create a child class car from the vehicle class created in Que 1, which will inherit the vehicle class.\n",
    "Create a method named seating _ capacity which takes capacity as an argument and returns the name of\n",
    "the vehicle and its seating capacity."
   ]
  },
  {
   "cell_type": "code",
   "execution_count": 6,
   "id": "ff42e438",
   "metadata": {},
   "outputs": [],
   "source": [
    "class Car(vehicle):\n",
    "    def seating_capacity(self,seating_capacity):\n",
    "        self.seating_capacity = seating_capacity\n",
    "        return self.name_of_vehicle,seating_capacity"
   ]
  },
  {
   "cell_type": "code",
   "execution_count": 7,
   "id": "9205f2e2",
   "metadata": {},
   "outputs": [],
   "source": [
    "car = Car(\"Toyota\",\"180KMPH\",\"22kmph\")"
   ]
  },
  {
   "cell_type": "code",
   "execution_count": 8,
   "id": "b1be4652",
   "metadata": {},
   "outputs": [
    {
     "data": {
      "text/plain": [
       "('Toyota', 4)"
      ]
     },
     "execution_count": 8,
     "metadata": {},
     "output_type": "execute_result"
    }
   ],
   "source": [
    "car.seating_capacity(4)"
   ]
  },
  {
   "cell_type": "markdown",
   "id": "4164569c",
   "metadata": {},
   "source": [
    "Q3. What is multiple inheritance? Write a python code to demonstrate multiple inheritance."
   ]
  },
  {
   "cell_type": "markdown",
   "id": "5741d469",
   "metadata": {},
   "source": [
    "ANS. When a class is derived from more than one base class it is called multiple Inheritance. The derived class inherits all the features of the base case."
   ]
  },
  {
   "cell_type": "code",
   "execution_count": 9,
   "id": "b0839ba0",
   "metadata": {},
   "outputs": [],
   "source": [
    "class test1:\n",
    "    def test_class1(self):\n",
    "        return \"This is a class 1\"\n",
    "    \n",
    "class test2:\n",
    "    def test_class2(self):\n",
    "        return \"This is a class 2\"\n",
    "    \n",
    "class test3(test1, test2):\n",
    "    pass"
   ]
  },
  {
   "cell_type": "code",
   "execution_count": 10,
   "id": "f0787d5c",
   "metadata": {},
   "outputs": [],
   "source": [
    "obj_class3 = test3()"
   ]
  },
  {
   "cell_type": "code",
   "execution_count": 11,
   "id": "1d474172",
   "metadata": {},
   "outputs": [
    {
     "data": {
      "text/plain": [
       "'This is a class 1'"
      ]
     },
     "execution_count": 11,
     "metadata": {},
     "output_type": "execute_result"
    }
   ],
   "source": [
    "obj_class3.test_class1()"
   ]
  },
  {
   "cell_type": "code",
   "execution_count": 12,
   "id": "74a6507c",
   "metadata": {},
   "outputs": [
    {
     "data": {
      "text/plain": [
       "'This is a class 2'"
      ]
     },
     "execution_count": 12,
     "metadata": {},
     "output_type": "execute_result"
    }
   ],
   "source": [
    "obj_class3.test_class2()"
   ]
  },
  {
   "cell_type": "markdown",
   "id": "001b621a",
   "metadata": {},
   "source": [
    "Q4. What are getter and setter in python? Create a class and create a getter and a setter method in this\n",
    "class."
   ]
  },
  {
   "cell_type": "markdown",
   "id": "f05b3946",
   "metadata": {},
   "source": [
    "ANS>      Getters: These are the methods used in Object-Oriented Programming (OOPS) which helps to access the private attributes from a class.\n",
    "Setters: These are the methods used in OOPS feature which helps to set the value to private attributes in a class."
   ]
  },
  {
   "cell_type": "code",
   "execution_count": 13,
   "id": "168f621a",
   "metadata": {},
   "outputs": [],
   "source": [
    "class car:\n",
    "    def __init__ (self, year, model, speed):\n",
    "        self.__year = year\n",
    "        self.__model = model\n",
    "        self.__speed = 0\n",
    "    \n",
    "    def set_speed(self,speed):\n",
    "        self.__speed = 0 if speed<0 else speed\n",
    "    \n",
    "    def get_speed(self):\n",
    "        return self.__speed"
   ]
  },
  {
   "cell_type": "code",
   "execution_count": 14,
   "id": "6eda2319",
   "metadata": {},
   "outputs": [],
   "source": [
    "c = car(2021,\"Toyota\",\"180KMPH\")"
   ]
  },
  {
   "cell_type": "code",
   "execution_count": 15,
   "id": "3415b5c9",
   "metadata": {},
   "outputs": [
    {
     "data": {
      "text/plain": [
       "2021"
      ]
     },
     "execution_count": 15,
     "metadata": {},
     "output_type": "execute_result"
    }
   ],
   "source": [
    "c._car__year"
   ]
  },
  {
   "cell_type": "code",
   "execution_count": 16,
   "id": "85ce1482",
   "metadata": {},
   "outputs": [
    {
     "data": {
      "text/plain": [
       "0"
      ]
     },
     "execution_count": 16,
     "metadata": {},
     "output_type": "execute_result"
    }
   ],
   "source": [
    "c.get_speed()"
   ]
  },
  {
   "cell_type": "code",
   "execution_count": 17,
   "id": "dcf2dc76",
   "metadata": {},
   "outputs": [],
   "source": [
    "c.set_speed(78)"
   ]
  },
  {
   "cell_type": "code",
   "execution_count": 18,
   "id": "3ed5f198",
   "metadata": {},
   "outputs": [
    {
     "data": {
      "text/plain": [
       "78"
      ]
     },
     "execution_count": 18,
     "metadata": {},
     "output_type": "execute_result"
    }
   ],
   "source": [
    "c.get_speed()"
   ]
  },
  {
   "cell_type": "markdown",
   "id": "871cef15",
   "metadata": {},
   "source": [
    "Q5.What is method overriding in python? Write a python code to demonstrate method overriding."
   ]
  },
  {
   "cell_type": "markdown",
   "id": "389917fc",
   "metadata": {},
   "source": [
    "Method overriding in Python is when you have two methods with the same name that each perform different tasks. This is an important feature of inheritance in Python.\n",
    "\n",
    "In method overriding, the child class can change its functions that are defined by its ancestral classes. In other words, the child class has access to the properties and functions of the parent class method while also extending additional functions of its own to the method. If a method in a superclass coincides with that of a subclass, then the subclass is said to override the superclass."
   ]
  },
  {
   "cell_type": "code",
   "execution_count": 19,
   "id": "aae7a362",
   "metadata": {},
   "outputs": [
    {
     "name": "stdout",
     "output_type": "stream",
     "text": [
      "The method walk is overriden in this code\n"
     ]
    }
   ],
   "source": [
    "class Animal:\n",
    "    def Walk(self):\n",
    "        return \"This is my first class\"\n",
    "    \n",
    "class Dog(Animal):\n",
    "    def Walk(self):\n",
    "        return \"This is my second class\"\n",
    "    \n",
    "print(\"The method walk is overriden in this code\")"
   ]
  },
  {
   "cell_type": "code",
   "execution_count": 20,
   "id": "ffb07985",
   "metadata": {},
   "outputs": [],
   "source": [
    "r = Animal()#Object made with respect with first class"
   ]
  },
  {
   "cell_type": "code",
   "execution_count": 21,
   "id": "379ac66f",
   "metadata": {},
   "outputs": [
    {
     "data": {
      "text/plain": [
       "'This is my first class'"
      ]
     },
     "execution_count": 21,
     "metadata": {},
     "output_type": "execute_result"
    }
   ],
   "source": [
    "r.Walk()"
   ]
  },
  {
   "cell_type": "code",
   "execution_count": 22,
   "id": "31d12052",
   "metadata": {},
   "outputs": [],
   "source": [
    "r = Dog()#object created with respect with the second class"
   ]
  },
  {
   "cell_type": "code",
   "execution_count": 23,
   "id": "73ca41d0",
   "metadata": {},
   "outputs": [
    {
     "data": {
      "text/plain": [
       "'This is my second class'"
      ]
     },
     "execution_count": 23,
     "metadata": {},
     "output_type": "execute_result"
    }
   ],
   "source": [
    "r.Walk()"
   ]
  }
 ],
 "metadata": {
  "kernelspec": {
   "display_name": "Python 3 (ipykernel)",
   "language": "python",
   "name": "python3"
  },
  "language_info": {
   "codemirror_mode": {
    "name": "ipython",
    "version": 3
   },
   "file_extension": ".py",
   "mimetype": "text/x-python",
   "name": "python",
   "nbconvert_exporter": "python",
   "pygments_lexer": "ipython3",
   "version": "3.10.9"
  }
 },
 "nbformat": 4,
 "nbformat_minor": 5
}
