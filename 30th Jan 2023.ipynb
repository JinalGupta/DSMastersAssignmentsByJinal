{
 "cells": [
  {
   "cell_type": "code",
   "execution_count": 1,
   "id": "a4cb67e5",
   "metadata": {},
   "outputs": [],
   "source": [
    "#Q1. Write a program to accept percentage from the user and display the grade according to the following criteria:\n",
    "#______________________________\n",
    "#|Marks        |  Grades       |\n",
    "#|_____________ ______________ |  \n",
    "#|>90          |    A          |\n",
    "#|>=80 and <=90|    B          |\n",
    "#|<=60 and <=80|    C          |\n",
    "#|Below 60     |    D          |\n",
    "#_______________________________"
   ]
  },
  {
   "cell_type": "code",
   "execution_count": 2,
   "id": "c4b37a2c",
   "metadata": {},
   "outputs": [
    {
     "name": "stdout",
     "output_type": "stream",
     "text": [
      "Enter your marks: 35\n",
      "Your grade is D\n"
     ]
    }
   ],
   "source": [
    "marks = int(input(\"Enter your marks: \"))\n",
    "if marks>90:\n",
    "    print(\"Your grade is A\")\n",
    "elif marks<=90 and marks>=80:\n",
    "    print(\"Your grade is B\")\n",
    "elif marks>=60 and marks<=80:\n",
    "    print(\"Your grade is C\")\n",
    "elif marks<60:\n",
    "    print(\"Your grade is D\")"
   ]
  },
  {
   "cell_type": "code",
   "execution_count": 3,
   "id": "27fe2d23",
   "metadata": {},
   "outputs": [],
   "source": [
    "#Q2. Write a program to accept the cost price Of a bike and display the road tax to be paid according to the\n",
    "#    following criteria:\n",
    "#__________________________________\n",
    "#Tax      |   Cost Price(in Rs)    |\n",
    "#___________________________________\n",
    "#15%      |    >100000             |\n",
    "#10%      |    >50000 and <=100000 |\n",
    "#5%       |    < 50000             |\n",
    "#-----------------------------------\n",
    "\n"
   ]
  },
  {
   "cell_type": "code",
   "execution_count": 4,
   "id": "a8dc9ede",
   "metadata": {},
   "outputs": [
    {
     "name": "stdout",
     "output_type": "stream",
     "text": [
      "Enter the price of your car: 34850\n",
      "The road tax to be paid for your vehicle is:  17425.0\n"
     ]
    }
   ],
   "source": [
    "CP = int(input(\"Enter the price of your car: \"))\n",
    "if CP > 100000:\n",
    "    RT = CP*0.15\n",
    "    print(\"The road tax to be paid for your vehicle is: \", RT)\n",
    "elif CP>50000 and CP<=100000:\n",
    "    RT = CP*0.1\n",
    "    print(\"The road tax to be paid for your vehicle is: \", RT)\n",
    "elif CP<50000:\n",
    "    RT = CP*0.5\n",
    "    print(\"The road tax to be paid for your vehicle is: \", RT)"
   ]
  },
  {
   "cell_type": "code",
   "execution_count": 5,
   "id": "cca7db9c",
   "metadata": {},
   "outputs": [],
   "source": [
    "#Q3. Accept any city from the user and display monuments of that city.\n",
    "#_____________________________________\n",
    "#City              |      Monument    |\n",
    "#--------------------------------------\n",
    "#Delhi             |    Red Fort      |\n",
    "#Agra              |    Taj Mahal     |\n",
    "#Jaipur            |    Jal Mahal     |\n",
    "#-------------------------------------\n"
   ]
  },
  {
   "cell_type": "code",
   "execution_count": 6,
   "id": "bcd423c1",
   "metadata": {},
   "outputs": [
    {
     "name": "stdout",
     "output_type": "stream",
     "text": [
      "Enter the name of the city : Uttrakhand\n",
      "You have entered the wrong city\n"
     ]
    }
   ],
   "source": [
    "city = input(\"Enter the name of the city : \")\n",
    "if city == \"Delhi\":\n",
    "    print(\"The monument at this place is Red Fort\")\n",
    "elif city == \"Agra\":\n",
    "    print(\"The monument at this place is Taj Mahal\")\n",
    "elif city == \"Jaipur\":\n",
    "    print(\"The monument at this place is Jal Mahal\")\n",
    "else:\n",
    "    print(\"You have entered the wrong city\")"
   ]
  },
  {
   "cell_type": "code",
   "execution_count": 7,
   "id": "27a85584",
   "metadata": {},
   "outputs": [],
   "source": [
    "#Q4.Check how many times a given number can be divided by 3 before it is less than or equal to 10."
   ]
  },
  {
   "cell_type": "code",
   "execution_count": 8,
   "id": "2efe924e",
   "metadata": {},
   "outputs": [
    {
     "name": "stdout",
     "output_type": "stream",
     "text": [
      "Enter a number: 9\n",
      "The number can be divide 3 times by 3\n"
     ]
    }
   ],
   "source": [
    "num = int(input(\"Enter a number: \"))\n",
    "if num<=10:\n",
    "    times = num//3\n",
    "    print(\"The number can be divide\" ,times , \"times by 3\")"
   ]
  },
  {
   "cell_type": "code",
   "execution_count": 9,
   "id": "d0807d85",
   "metadata": {},
   "outputs": [],
   "source": [
    "#Q5. Why and When to Use while Loop in Python give a detailed description with example."
   ]
  },
  {
   "cell_type": "code",
   "execution_count": 10,
   "id": "b1da7398",
   "metadata": {},
   "outputs": [
    {
     "name": "stdout",
     "output_type": "stream",
     "text": [
      "0\n",
      "1\n",
      "2\n",
      "3\n",
      "4\n",
      "5\n",
      "6\n",
      "7\n",
      "8\n",
      "9\n",
      "10\n"
     ]
    }
   ],
   "source": [
    "#Python While Loop is used to execute a block of statements repeatedly until a given condition is satisfied.\n",
    "#When the condition becomes false, the line immediately after the loop in the program is executed.\n",
    "#While loop falls under the category of indefinite iteration. Indefinite iteration means that the number of \n",
    "#times the loop is executed isn’t specified explicitly in advance. \n",
    "#Python while loop is used when the number of iterations is unknown.\n",
    "\n",
    "#Example:\n",
    "count = 0\n",
    "while count <=10:\n",
    "    print(count)\n",
    "    count = count + 1 "
   ]
  },
  {
   "cell_type": "code",
   "execution_count": 11,
   "id": "6690eba9",
   "metadata": {},
   "outputs": [],
   "source": [
    "#Q6. Use nested while loop to print 3 different pattern."
   ]
  },
  {
   "cell_type": "code",
   "execution_count": 12,
   "id": "3558a1cb",
   "metadata": {},
   "outputs": [
    {
     "name": "stdout",
     "output_type": "stream",
     "text": [
      "Enter the number of rows you want to have in the patern: 7\n",
      "*\n",
      "**\n",
      "***\n",
      "****\n",
      "*****\n",
      "******\n",
      "*******\n"
     ]
    }
   ],
   "source": [
    "#Pattern - 1\n",
    "rows = int(input(\"Enter the number of rows you want to have in the patern: \"))\n",
    "i = 1\n",
    "\n",
    "while i <= rows:\n",
    "    j = 1\n",
    "    while j <= i:\n",
    "        print(\"*\", end=\"\")\n",
    "        j += 1\n",
    "    print()\n",
    "    i += 1"
   ]
  },
  {
   "cell_type": "code",
   "execution_count": 13,
   "id": "1fb5345c",
   "metadata": {},
   "outputs": [
    {
     "name": "stdout",
     "output_type": "stream",
     "text": [
      "Enter the number of rows you want to have in the patern: 7\n",
      "1\n",
      "12\n",
      "123\n",
      "1234\n",
      "12345\n",
      "123456\n",
      "1234567\n"
     ]
    }
   ],
   "source": [
    "#Pattern - 2\n",
    "rows = int(input(\"Enter the number of rows you want to have in the patern: \"))\n",
    "i = 1\n",
    "\n",
    "while i <= rows:\n",
    "    j = 1\n",
    "    while j <= i:\n",
    "        print(j, end=\"\")\n",
    "        j += 1\n",
    "    print()\n",
    "    i += 1"
   ]
  },
  {
   "cell_type": "code",
   "execution_count": 14,
   "id": "13d1ba2a",
   "metadata": {},
   "outputs": [
    {
     "name": "stdout",
     "output_type": "stream",
     "text": [
      "Enter the number of rows you want to have in your pattern: 7\n",
      "7 7 7 7 7 7 7 \n",
      "7           7 \n",
      "7           7 \n",
      "7           7 \n",
      "7           7 \n",
      "7           7 \n",
      "7 7 7 7 7 7 7 \n"
     ]
    }
   ],
   "source": [
    "#Pattern - 3\n",
    "n = int(input(\"Enter the number of rows you want to have in your pattern: \"))# Number of rows (can be changed)\n",
    "\n",
    "i = 1\n",
    "while i <= n:\n",
    "    j = 1\n",
    "    while j <= n:\n",
    "        if i == 1 or i == n or j == 1 or j == n:\n",
    "            print(n, end=\" \")\n",
    "        else:\n",
    "            print(\" \", end=\" \")\n",
    "        j += 1\n",
    "    print()\n",
    "    i += 1\n"
   ]
  },
  {
   "cell_type": "code",
   "execution_count": 15,
   "id": "c9da4832",
   "metadata": {},
   "outputs": [],
   "source": [
    "#Q7. Reverse a while loop to display numbers from 1O to 1."
   ]
  },
  {
   "cell_type": "code",
   "execution_count": 16,
   "id": "d30bf410",
   "metadata": {},
   "outputs": [
    {
     "name": "stdout",
     "output_type": "stream",
     "text": [
      "10\n",
      "9\n",
      "8\n",
      "7\n",
      "6\n",
      "5\n",
      "4\n",
      "3\n",
      "2\n",
      "1\n"
     ]
    }
   ],
   "source": [
    "count = 10\n",
    "while count>0:\n",
    "    print(count)\n",
    "    count = count - 1"
   ]
  },
  {
   "cell_type": "code",
   "execution_count": 17,
   "id": "b48d552d",
   "metadata": {},
   "outputs": [],
   "source": [
    "#Q8. Reverse a while loop to display numbers from 1O to 1."
   ]
  },
  {
   "cell_type": "code",
   "execution_count": 18,
   "id": "bacf2fd2",
   "metadata": {},
   "outputs": [
    {
     "name": "stdout",
     "output_type": "stream",
     "text": [
      "10\n",
      "9\n",
      "8\n",
      "7\n",
      "6\n",
      "5\n",
      "4\n",
      "3\n",
      "2\n",
      "1\n"
     ]
    }
   ],
   "source": [
    "count = 10\n",
    "while count>0:\n",
    "    print(count)\n",
    "    count = count - 1"
   ]
  }
 ],
 "metadata": {
  "kernelspec": {
   "display_name": "Python 3 (ipykernel)",
   "language": "python",
   "name": "python3"
  },
  "language_info": {
   "codemirror_mode": {
    "name": "ipython",
    "version": 3
   },
   "file_extension": ".py",
   "mimetype": "text/x-python",
   "name": "python",
   "nbconvert_exporter": "python",
   "pygments_lexer": "ipython3",
   "version": "3.10.9"
  }
 },
 "nbformat": 4,
 "nbformat_minor": 5
}
