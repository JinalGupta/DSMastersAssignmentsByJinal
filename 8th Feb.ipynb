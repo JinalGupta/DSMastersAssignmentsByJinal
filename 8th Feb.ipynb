{
 "cells": [
  {
   "cell_type": "markdown",
   "id": "c9b44783",
   "metadata": {},
   "source": [
    "What is abstraction in OOPs? Explain with an example."
   ]
  },
  {
   "cell_type": "markdown",
   "id": "ef34dac4",
   "metadata": {},
   "source": [
    "Data abstraction is one of the most essential concepts of Python OOPs which is used to hide irrelevant details from the user and show the details that are relevant to the users.A simple example of this can be a car. A car has an accelerator, clutch, and break and we all know that pressing an accelerator will increase the speed of the car and applying the brake can stop the car but we don’t know the internal mechanism of the car and how these functionalities can work this detail hiding is known as data abstraction."
   ]
  },
  {
   "cell_type": "code",
   "execution_count": 1,
   "id": "dad8b06a",
   "metadata": {},
   "outputs": [],
   "source": [
    "#EXAMPLE\n",
    "import abc#abc - abstarct base classes\n",
    "class skills:\n",
    "    @abc.abstractmethod\n",
    "    def student_details(self):\n",
    "        pass\n",
    "    @abc.abstractmethod\n",
    "    def student_assignments(self):\n",
    "        pass\n",
    "    @abc.abstractmethod\n",
    "    def student_marks(self):\n",
    "        pass"
   ]
  },
  {
   "cell_type": "code",
   "execution_count": 2,
   "id": "ad7c183f",
   "metadata": {},
   "outputs": [],
   "source": [
    "class student_details(skills):\n",
    "    def student_details(self):\n",
    "        return \"This is a meth for taking students details\"\n",
    "    def student_assignments(self):\n",
    "        return \"This is a meth for assigning details for a particular student\"\n",
    "\n",
    "class data_science(skills):\n",
    "    def student_details(self):\n",
    "        return \"This will return a students detail for the course data science\"\n",
    "    def student_assignments(skills):\n",
    "        return \"This will give you a student assignmen for data science course\""
   ]
  },
  {
   "cell_type": "code",
   "execution_count": 3,
   "id": "779a8e3d",
   "metadata": {},
   "outputs": [],
   "source": [
    "dsc = data_science()"
   ]
  },
  {
   "cell_type": "code",
   "execution_count": 4,
   "id": "6b647fc6",
   "metadata": {},
   "outputs": [
    {
     "data": {
      "text/plain": [
       "'This will return a students detail for the course data science'"
      ]
     },
     "execution_count": 4,
     "metadata": {},
     "output_type": "execute_result"
    }
   ],
   "source": [
    "dsc.student_details()"
   ]
  },
  {
   "cell_type": "code",
   "execution_count": 5,
   "id": "533c9a82",
   "metadata": {},
   "outputs": [
    {
     "data": {
      "text/plain": [
       "'This will return a students detail for the course data science'"
      ]
     },
     "execution_count": 5,
     "metadata": {},
     "output_type": "execute_result"
    }
   ],
   "source": [
    "dsc.student_details()"
   ]
  },
  {
   "cell_type": "code",
   "execution_count": 6,
   "id": "ed264aac",
   "metadata": {},
   "outputs": [],
   "source": [
    "dsc.student_marks()"
   ]
  },
  {
   "cell_type": "markdown",
   "id": "ed05c2d2",
   "metadata": {},
   "source": [
    "Difference between abstraction and encapsulation. Explain with an example."
   ]
  },
  {
   "cell_type": "markdown",
   "id": "1c9b7b51",
   "metadata": {},
   "source": [
    "Abstraction is a design level process and it is used to reduce the complexity at the designing stage of a project. Encapsulation is an implementation level process, and it is used to provide privacy and maintain control over the transparency of data at the implementation stage of a project.Abstraction is concerned about what a class instance can do, instead of the implementation of the class.Encapsulation helps in data binding and control over maintaining the transparency of the data."
   ]
  },
  {
   "cell_type": "code",
   "execution_count": 7,
   "id": "b6d45051",
   "metadata": {},
   "outputs": [],
   "source": [
    "#Encapsulation\n",
    "class bank_account:\n",
    "    \n",
    "    def __init__(self, balance):#Creating a constructor function which takes the input as balance of the bank account\n",
    "        self.__balance = balance#Encapsulating the balance from the user which can be only entered once after that only withdrawal and deposit can happen\n",
    "    \n",
    "    def deposit(self, amount):#function for depositing a desired amount in your balance \n",
    "        self.__balance = self.__balance + amount\n",
    "        \n",
    "    def withdraw(self, amount):#function for withdrawal of a certain amount of balance only when the amount is less than the balance of the account \n",
    "        if self.__balance >= amount:\n",
    "            self.__balance = self.__balance - amount\n",
    "            return True\n",
    "        else :\n",
    "            return False\n",
    "    \n",
    "    def get_balance(self):#Function to check the balance of the account \n",
    "        return self.__balance"
   ]
  },
  {
   "cell_type": "code",
   "execution_count": 8,
   "id": "d6f4ab26",
   "metadata": {},
   "outputs": [],
   "source": [
    "John = bank_account(20000)#Initial amount in the bank account"
   ]
  },
  {
   "cell_type": "code",
   "execution_count": 9,
   "id": "b8db6267",
   "metadata": {},
   "outputs": [],
   "source": [
    "John.deposit(2000)#Deposting a required sum of amount"
   ]
  },
  {
   "cell_type": "code",
   "execution_count": 10,
   "id": "d61eeead",
   "metadata": {},
   "outputs": [
    {
     "data": {
      "text/plain": [
       "22000"
      ]
     },
     "execution_count": 10,
     "metadata": {},
     "output_type": "execute_result"
    }
   ],
   "source": [
    "John.get_balance()"
   ]
  },
  {
   "cell_type": "code",
   "execution_count": 11,
   "id": "54f92a91",
   "metadata": {},
   "outputs": [
    {
     "data": {
      "text/plain": [
       "True"
      ]
     },
     "execution_count": 11,
     "metadata": {},
     "output_type": "execute_result"
    }
   ],
   "source": [
    "John.withdraw(300)#withdrawing the amount required which is only possible when the amount to be withdrawed is less than the amount present in bank account "
   ]
  },
  {
   "cell_type": "code",
   "execution_count": 12,
   "id": "4e6b148a",
   "metadata": {},
   "outputs": [
    {
     "data": {
      "text/plain": [
       "21700"
      ]
     },
     "execution_count": 12,
     "metadata": {},
     "output_type": "execute_result"
    }
   ],
   "source": [
    "John.get_balance()#Checking for the balance in the account after withdrawal of the amount "
   ]
  },
  {
   "cell_type": "code",
   "execution_count": 13,
   "id": "097c151b",
   "metadata": {},
   "outputs": [],
   "source": [
    "#Abstraction"
   ]
  },
  {
   "cell_type": "code",
   "execution_count": 14,
   "id": "b1b72660",
   "metadata": {},
   "outputs": [],
   "source": [
    "import abc#abc - abstarct base classes\n",
    "class skills:\n",
    "    @abc.abstractmethod\n",
    "    def student_details(self):\n",
    "        pass\n",
    "    @abc.abstractmethod\n",
    "    def student_assignments(self):\n",
    "        pass\n",
    "    @abc.abstractmethod\n",
    "    def student_marks(self):\n",
    "        pass"
   ]
  },
  {
   "cell_type": "code",
   "execution_count": 15,
   "id": "43675b81",
   "metadata": {},
   "outputs": [],
   "source": [
    "class student_details(skills):\n",
    "    def student_details(self):\n",
    "        return \"This is a meth for taking students details\"\n",
    "    def student_assignments(self):\n",
    "        return \"This is a meth for assigning details for a particular student\"\n",
    "\n",
    "class data_science(skills):\n",
    "    def student_details(self):\n",
    "        return \"This will return a students detail for the course data science\"\n",
    "    def student_assignments(skills):\n",
    "        return \"This will give you a student assignmen for data science course\""
   ]
  },
  {
   "cell_type": "code",
   "execution_count": 16,
   "id": "f10c66ad",
   "metadata": {},
   "outputs": [],
   "source": [
    "dsc = data_science()"
   ]
  },
  {
   "cell_type": "code",
   "execution_count": 17,
   "id": "beb4031c",
   "metadata": {},
   "outputs": [
    {
     "data": {
      "text/plain": [
       "'This will return a students detail for the course data science'"
      ]
     },
     "execution_count": 17,
     "metadata": {},
     "output_type": "execute_result"
    }
   ],
   "source": [
    "dsc.student_details()"
   ]
  },
  {
   "cell_type": "code",
   "execution_count": 18,
   "id": "6eef0377",
   "metadata": {},
   "outputs": [
    {
     "data": {
      "text/plain": [
       "'This will return a students detail for the course data science'"
      ]
     },
     "execution_count": 18,
     "metadata": {},
     "output_type": "execute_result"
    }
   ],
   "source": [
    "dsc.student_details()"
   ]
  },
  {
   "cell_type": "code",
   "execution_count": 19,
   "id": "1c53db0e",
   "metadata": {},
   "outputs": [],
   "source": [
    "dsc.student_marks()"
   ]
  },
  {
   "cell_type": "markdown",
   "id": "6d1e7676",
   "metadata": {},
   "source": [
    "What is abc module in python?Why is it used ?"
   ]
  },
  {
   "cell_type": "markdown",
   "id": "ef469754",
   "metadata": {},
   "source": [
    "An ABC is a class that cannot be instantiated on its own. Instead, it serves as a blueprint for other classes to inherit from. It defines a common interface that all its subclasses must implement. This ensures consistency and enforces a specific structure across related classes."
   ]
  },
  {
   "cell_type": "code",
   "execution_count": 20,
   "id": "8bbdae9b",
   "metadata": {},
   "outputs": [],
   "source": [
    "#abc is used because:\n",
    "#1. Enforce interface contracts:\n",
    "#ABCs allow you to define a set of methods that any subclass must implement. \n",
    "#This ensures that all subclasses provide a consistent interface, making your code more reliable and easier to use.\n",
    "#2. Polymorphism:\n",
    "#You can write code that works with any object that adheres to the interface defined by an ABC, \n",
    "#regardless of its specific type. This promotes code reusability and flexibility.\n",
    "#3. Documentation and readability:\n",
    "#By using ABCs, you explicitly state the intended behavior of a class and its relationship with other classes. \n",
    "#This makes your code more readable and understandable for other developers."
   ]
  },
  {
   "cell_type": "markdown",
   "id": "5313cd65",
   "metadata": {},
   "source": [
    "How can we achieve Data Abstraction?"
   ]
  },
  {
   "cell_type": "code",
   "execution_count": 21,
   "id": "169f0859",
   "metadata": {},
   "outputs": [],
   "source": [
    "#Data abstraction in Python can be achieved through the use of classes and objects. \n",
    "#Here are a few key concepts and steps to achieve data abstraction:\n",
    "\n",
    "#1. Classes and Objects: \n",
    "#   Classes are blueprints for creating objects. \n",
    "#   They encapsulate data and functions (methods) that operate on that data.\n",
    "\n",
    "#2. Encapsulation: \n",
    "#   This involves wrapping data (variables) and methods (functions) into a single unit, the class. \n",
    "#   Encapsulation helps to hide the internal state of the object from the outside world and only expose necessary \n",
    "#   functionalities.\n",
    "\n",
    "#3. Access Modifiers: \n",
    "#   Python uses conventions to indicate the intended level of access for attributes and methods.\n",
    "\n",
    "#4. Public: \n",
    "#   Accessible from outside the class.\n",
    "#5. Protected: \n",
    "#   Indicated by a single underscore (_). \n",
    "#   It’s a convention that it should be treated as non-public.\n",
    "#6. Private: \n",
    "#   Indicated by double underscores (__). \n",
    "#   This performs name mangling to make the attribute less accessible from outside the class.\n",
    "#7. Properties and Getters/Setters: \n",
    "#   Properties in Python allow you to define methods in a class that can be accessed like attributes. \n",
    "#   Getters and setters are methods used to get and set the values of private attributes."
   ]
  },
  {
   "cell_type": "markdown",
   "id": "e83a9fef",
   "metadata": {},
   "source": [
    "Can we create an instance of an abstract class?Explain your answer."
   ]
  },
  {
   "cell_type": "code",
   "execution_count": 22,
   "id": "5bd80fe8",
   "metadata": {},
   "outputs": [],
   "source": [
    "#No, we cannot create an instance of an abstract class.\n",
    "\n",
    "#An abstract class in Python serves as a blueprint for other classes. \n",
    "#It is meant to be subclassed and cannot be instantiated #directly. \n",
    "#Abstract classes can contain abstract methods—methods that are declared but contain no implementation. \n",
    "#These methods #must be implemented by any subclass of the abstract class.\n",
    "\n",
    "#Python's abc (Abstract Base Classes) module provides the infrastructure for defining abstract base classes. \n",
    "#To define an #abstract class, you inherit from abc.ABC and use the @abstractmethod decorator to declare abstract methods."
   ]
  },
  {
   "cell_type": "code",
   "execution_count": 23,
   "id": "5c8e39eb",
   "metadata": {},
   "outputs": [],
   "source": [
    "from abc import ABC, abstractmethod\n",
    "\n",
    "class Animal(ABC):\n",
    "    @abstractmethod\n",
    "    def sound(self):\n",
    "        pass\n",
    "\n",
    "class Dog(Animal):\n",
    "    def sound(self):\n",
    "        return \"Bark\"\n",
    "\n",
    "class Cat(Animal):\n",
    "    def sound(self):\n",
    "        return \"Meow\"\n"
   ]
  },
  {
   "cell_type": "code",
   "execution_count": 24,
   "id": "deb7cba4",
   "metadata": {},
   "outputs": [],
   "source": [
    "dog = Dog()"
   ]
  },
  {
   "cell_type": "code",
   "execution_count": 25,
   "id": "8b542682",
   "metadata": {},
   "outputs": [],
   "source": [
    "cat = Cat()"
   ]
  },
  {
   "cell_type": "code",
   "execution_count": 26,
   "id": "1207f0ee",
   "metadata": {},
   "outputs": [
    {
     "data": {
      "text/plain": [
       "'Bark'"
      ]
     },
     "execution_count": 26,
     "metadata": {},
     "output_type": "execute_result"
    }
   ],
   "source": [
    "dog.sound()"
   ]
  },
  {
   "cell_type": "code",
   "execution_count": 27,
   "id": "9a3577f7",
   "metadata": {},
   "outputs": [
    {
     "data": {
      "text/plain": [
       "'Meow'"
      ]
     },
     "execution_count": 27,
     "metadata": {},
     "output_type": "execute_result"
    }
   ],
   "source": [
    "cat.sound()"
   ]
  },
  {
   "cell_type": "code",
   "execution_count": 28,
   "id": "492de38f",
   "metadata": {},
   "outputs": [
    {
     "ename": "TypeError",
     "evalue": "Can't instantiate abstract class Animal with abstract method sound",
     "output_type": "error",
     "traceback": [
      "\u001b[1;31m---------------------------------------------------------------------------\u001b[0m",
      "\u001b[1;31mTypeError\u001b[0m                                 Traceback (most recent call last)",
      "Cell \u001b[1;32mIn[28], line 1\u001b[0m\n\u001b[1;32m----> 1\u001b[0m animal \u001b[38;5;241m=\u001b[39m \u001b[43mAnimal\u001b[49m\u001b[43m(\u001b[49m\u001b[43m)\u001b[49m\n",
      "\u001b[1;31mTypeError\u001b[0m: Can't instantiate abstract class Animal with abstract method sound"
     ]
    }
   ],
   "source": [
    "animal = Animal()"
   ]
  }
 ],
 "metadata": {
  "kernelspec": {
   "display_name": "Python 3 (ipykernel)",
   "language": "python",
   "name": "python3"
  },
  "language_info": {
   "codemirror_mode": {
    "name": "ipython",
    "version": 3
   },
   "file_extension": ".py",
   "mimetype": "text/x-python",
   "name": "python",
   "nbconvert_exporter": "python",
   "pygments_lexer": "ipython3",
   "version": "3.10.9"
  }
 },
 "nbformat": 4,
 "nbformat_minor": 5
}
