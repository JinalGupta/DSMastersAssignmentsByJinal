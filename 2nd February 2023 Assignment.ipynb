{
 "cells": [
  {
   "cell_type": "markdown",
   "id": "2c058499",
   "metadata": {},
   "source": [
    "Q1. Explain with an example each when to use a for loop and a while loop."
   ]
  },
  {
   "cell_type": "code",
   "execution_count": 1,
   "id": "0a9eb343",
   "metadata": {},
   "outputs": [
    {
     "name": "stdout",
     "output_type": "stream",
     "text": [
      "1\n",
      "3\n",
      "2\n",
      "4\n",
      "20\n",
      "5\n",
      "665\n"
     ]
    }
   ],
   "source": [
    "#For Loop(Does not check for the conditions for loop execution)\n",
    "l = [1,3,2,4,20,5,665]\n",
    "for i in l:\n",
    "    print(i)"
   ]
  },
  {
   "cell_type": "code",
   "execution_count": 2,
   "id": "de6b2f9f",
   "metadata": {},
   "outputs": [
    {
     "name": "stdout",
     "output_type": "stream",
     "text": [
      "20\n",
      "23\n"
     ]
    }
   ],
   "source": [
    "#While Loop(Always Checks the conditions before execution of the loop)\n",
    "a = 20\n",
    "while a<=23:\n",
    "    print(a)\n",
    "    a = a+3"
   ]
  },
  {
   "cell_type": "markdown",
   "id": "3f3022da",
   "metadata": {},
   "source": [
    "Q2. Write a python program to print the sum and product of the first 10 natural numbers using for\n",
    "and while loop."
   ]
  },
  {
   "cell_type": "raw",
   "id": "48ec45f5",
   "metadata": {},
   "source": [
    "# Using For Loop\n",
    "#first 10 narural numbers [1,2,3,4,5,6,7,8,9,10]"
   ]
  },
  {
   "cell_type": "code",
   "execution_count": 3,
   "id": "8128392a",
   "metadata": {},
   "outputs": [
    {
     "data": {
      "text/plain": [
       "55"
      ]
     },
     "execution_count": 3,
     "metadata": {},
     "output_type": "execute_result"
    }
   ],
   "source": [
    "#sum(using for loop)\n",
    "l = [1,2,3,4,5,6,7,8,9,10]\n",
    "result = 0\n",
    "for i in l:\n",
    "    result = result + i\n",
    "result"
   ]
  },
  {
   "cell_type": "code",
   "execution_count": 4,
   "id": "aa8f5d4e",
   "metadata": {},
   "outputs": [
    {
     "data": {
      "text/plain": [
       "3628800"
      ]
     },
     "execution_count": 4,
     "metadata": {},
     "output_type": "execute_result"
    }
   ],
   "source": [
    "#product(using for loop)\n",
    "product = 1\n",
    "for i in l:\n",
    "    product = product * i\n",
    "product"
   ]
  },
  {
   "cell_type": "raw",
   "id": "81d1f01f",
   "metadata": {},
   "source": [
    "# Using While Loop"
   ]
  },
  {
   "cell_type": "code",
   "execution_count": 5,
   "id": "399e3bd0",
   "metadata": {},
   "outputs": [
    {
     "name": "stdout",
     "output_type": "stream",
     "text": [
      "Enter the number 10\n",
      "55\n"
     ]
    }
   ],
   "source": [
    "#Sum(using while loop when there is no list)\n",
    "n = int(input(\"Enter the number \"))\n",
    "i = 0\n",
    "sum = 0\n",
    "while i<=n:\n",
    "    sum = sum + i\n",
    "    i = i + 1\n",
    "print(sum)"
   ]
  },
  {
   "cell_type": "code",
   "execution_count": 6,
   "id": "e87b7ca5",
   "metadata": {},
   "outputs": [
    {
     "name": "stdout",
     "output_type": "stream",
     "text": [
      "55\n"
     ]
    }
   ],
   "source": [
    "#Sum(using while loop when the elements are taken from the list)\n",
    "i = 0\n",
    "sum = 0\n",
    "while i<=len(l)-1:\n",
    "    sum = sum + l[i]\n",
    "    i = i+1\n",
    "print (sum)"
   ]
  },
  {
   "cell_type": "code",
   "execution_count": 7,
   "id": "d0f3b91c",
   "metadata": {},
   "outputs": [
    {
     "name": "stdout",
     "output_type": "stream",
     "text": [
      "Enter the number 10\n",
      "3628800\n"
     ]
    }
   ],
   "source": [
    "#Product(using while loop when there is no list)\n",
    "n = int(input(\"Enter the number \"))\n",
    "i = 1\n",
    "product= 1\n",
    "while i<=n:\n",
    "    product = product*i\n",
    "    i = i + 1\n",
    "print(product)"
   ]
  },
  {
   "cell_type": "code",
   "execution_count": 8,
   "id": "5a5b41f2",
   "metadata": {},
   "outputs": [
    {
     "name": "stdout",
     "output_type": "stream",
     "text": [
      "3628800\n"
     ]
    }
   ],
   "source": [
    "#Product(using while loop when the elements are taken from the list)\n",
    "i = 1\n",
    "product = 1\n",
    "while i<=len(l)-1:\n",
    "    product = product * l[i]\n",
    "    i = i+1\n",
    "print (product)"
   ]
  },
  {
   "cell_type": "markdown",
   "id": "25e4b59d",
   "metadata": {},
   "source": [
    "Q3. Create a python program to compute the electricity bill for a household.\n",
    "The per-unit charges in rupees are as follows: For the first 100 units, the user will be charged Rs. 4.5 per\n",
    "unit, for the next 100 units, the user will be charged Rs. 6 per unit, and for the next 100 units, the user will\n",
    "be charged Rs. IO per unit, After 300 units and above the user will be charged Rs. 20 per unit.\n",
    "You are required to take the units of electricity consumed in a month from the user as input.\n",
    "Your program must pass this test case: when the unit of electricity consumed by the user in a month is\n",
    "310, the total electricity bill should be 2250."
   ]
  },
  {
   "cell_type": "code",
   "execution_count": 9,
   "id": "3dd44101",
   "metadata": {},
   "outputs": [
    {
     "name": "stdout",
     "output_type": "stream",
     "text": [
      "Enter the units of electricity utilised in a month 310\n",
      "2250.0\n"
     ]
    }
   ],
   "source": [
    "UC = int(input(\"Enter the units of electricity utilised in a month \"))#UC = Units_consumed\n",
    "TB = 0 #total bill\n",
    "if UC<=100:\n",
    "    TB = UC * 4.5\n",
    "elif UC <= 200:\n",
    "    TB = (100*4.5) + (UC - 100)*6\n",
    "elif UC <= 300 :\n",
    "    TB = (100*4.5) + (100*6) + (UC - 200)*10 \n",
    "elif UC > 300:\n",
    "    TB = (100*4.5) + (100*6) + (100*10) + (UC -300)*20\n",
    "\n",
    "print(TB)        "
   ]
  },
  {
   "cell_type": "markdown",
   "id": "39d74d50",
   "metadata": {},
   "source": [
    "Q4. Create a list of numbers from 1 to 100. Use for loop and while loop to calculate the cube of each\n",
    "number and if the cube of that number is divisible by 4 or 5 then append that number in a list and print\n",
    "that list."
   ]
  },
  {
   "cell_type": "code",
   "execution_count": 10,
   "id": "12a272d0",
   "metadata": {},
   "outputs": [
    {
     "name": "stdout",
     "output_type": "stream",
     "text": [
      "[8, 64, 125, 216, 512, 1000, 1728, 2744, 3375, 4096, 5832, 8000, 10648, 13824, 15625, 17576, 21952, 27000, 32768, 39304, 42875, 46656, 54872, 64000, 74088, 85184, 91125, 97336, 110592, 125000, 140608, 157464, 166375, 175616, 195112, 216000, 238328, 262144, 274625, 287496, 314432, 343000, 373248, 405224, 421875, 438976, 474552, 512000, 551368, 592704, 614125, 636056, 681472, 729000, 778688, 830584, 857375, 884736, 941192, 1000000]\n"
     ]
    }
   ],
   "source": [
    "l=[]\n",
    "l1 =[]\n",
    "l2 = []\n",
    "for i in range(1,101):\n",
    "    l.append(i)\n",
    "    l1.append(i*i*i)\n",
    "    if (i**3)%4 == 0 or (i**3)%5 == 0:\n",
    "        l2.append(i*i*i)\n",
    "print(l2)"
   ]
  },
  {
   "cell_type": "code",
   "execution_count": 11,
   "id": "0c081b69",
   "metadata": {},
   "outputs": [
    {
     "name": "stdout",
     "output_type": "stream",
     "text": [
      "[8, 64, 125, 216, 512, 1000, 1728, 2744, 3375, 4096, 5832, 8000, 10648, 13824, 15625, 17576, 21952, 27000, 32768, 39304, 42875, 46656, 54872, 64000, 74088, 85184, 91125, 97336, 110592, 125000, 140608, 157464, 166375, 175616, 195112, 216000, 238328, 262144, 274625, 287496, 314432, 343000, 373248, 405224, 421875, 438976, 474552, 512000, 551368, 592704, 614125, 636056, 681472, 729000, 778688, 830584, 857375, 884736, 941192, 1000000]\n"
     ]
    }
   ],
   "source": [
    "l=[]\n",
    "l1 =[]\n",
    "l2 = []\n",
    "i = 1\n",
    "while i<=100:\n",
    "    l.append(i)\n",
    "    l1.append(i*i*i)\n",
    "    if (i**3)%4 == 0 or (i**3)%5 == 0:\n",
    "        l2.append(i*i*i)\n",
    "    i = i+1\n",
    "print(l2)"
   ]
  },
  {
   "cell_type": "markdown",
   "id": "09299f2c",
   "metadata": {},
   "source": [
    "Q5. Write a program to filter count vowels in the below-given string.\n",
    "string = \"I want to become a data scientist\""
   ]
  },
  {
   "cell_type": "code",
   "execution_count": 12,
   "id": "e58c711c",
   "metadata": {},
   "outputs": [
    {
     "name": "stdout",
     "output_type": "stream",
     "text": [
      "12\n"
     ]
    }
   ],
   "source": [
    "s = \"I want to become a data scientist\"\n",
    "vowels = \"aeiouAEIOU\"\n",
    "vowels_count = 0\n",
    "for i in s:\n",
    "    if i in vowels:\n",
    "        vowels_count = vowels_count+1\n",
    "print(vowels_count)"
   ]
  }
 ],
 "metadata": {
  "kernelspec": {
   "display_name": "Python 3 (ipykernel)",
   "language": "python",
   "name": "python3"
  },
  "language_info": {
   "codemirror_mode": {
    "name": "ipython",
    "version": 3
   },
   "file_extension": ".py",
   "mimetype": "text/x-python",
   "name": "python",
   "nbconvert_exporter": "python",
   "pygments_lexer": "ipython3",
   "version": "3.10.9"
  }
 },
 "nbformat": 4,
 "nbformat_minor": 5
}
