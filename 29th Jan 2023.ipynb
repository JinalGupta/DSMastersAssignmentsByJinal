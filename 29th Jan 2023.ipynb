{
 "cells": [
  {
   "cell_type": "markdown",
   "id": "407c63a0",
   "metadata": {},
   "source": [
    "Q1. Who developed Python Programming Language?"
   ]
  },
  {
   "cell_type": "code",
   "execution_count": 1,
   "id": "f08a78be",
   "metadata": {},
   "outputs": [],
   "source": [
    "#The python Programming Language was developed by Guido Van Rossum and was first released on 20th February 1991."
   ]
  },
  {
   "cell_type": "markdown",
   "id": "83f7f67f",
   "metadata": {},
   "source": [
    "Q2. Which type of Programming does Python support?"
   ]
  },
  {
   "cell_type": "code",
   "execution_count": 2,
   "id": "025029d8",
   "metadata": {},
   "outputs": [],
   "source": [
    "#Python is a multi-paradigm programming language. Object oriented programming and structured programming are fully supported.\n",
    "#Many of the python features even support functional programming and \n",
    "#aspect oriented programming (including metaprogramming and metaobject)."
   ]
  },
  {
   "cell_type": "markdown",
   "id": "b8508552",
   "metadata": {},
   "source": [
    "Q3.Is Python case sensitive when dealing with identifiers?"
   ]
  },
  {
   "cell_type": "code",
   "execution_count": 3,
   "id": "3f588079",
   "metadata": {},
   "outputs": [],
   "source": [
    "#Yes, Python is case sensitive. It considers uppercase and lowercase characters as different.\n",
    "#It is also applicable to identifiers.\n",
    "#The property is useful while using naming identifiers to make the code more readable and maintainable."
   ]
  },
  {
   "cell_type": "markdown",
   "id": "c8dcef4a",
   "metadata": {},
   "source": [
    "Q4. What is the correct extension of the Python file?"
   ]
  },
  {
   "cell_type": "code",
   "execution_count": 4,
   "id": "1a640a26",
   "metadata": {},
   "outputs": [],
   "source": [
    "#The correct extension for python source code files is \".py\". \n",
    "#When you create or save a python script or program, you should use the \".py\" extension to \n",
    "#indicate that it contains python code."
   ]
  },
  {
   "cell_type": "markdown",
   "id": "c3c6998e",
   "metadata": {},
   "source": [
    "Q5. Is Python code compiled or interpreted?"
   ]
  },
  {
   "cell_type": "code",
   "execution_count": 5,
   "id": "41ea3b34",
   "metadata": {},
   "outputs": [],
   "source": [
    "#Python is an interpreted language, \n",
    "#which means that the source code of a python program is converted into bytecode that is then executed by the virtual machine."
   ]
  },
  {
   "cell_type": "markdown",
   "id": "51c107fc",
   "metadata": {},
   "source": [
    "Q6. Name a few blocks of code used to define in Python language?"
   ]
  },
  {
   "cell_type": "code",
   "execution_count": 6,
   "id": "e4ed8674",
   "metadata": {},
   "outputs": [],
   "source": [
    "#A python program is constructed from code blocks.\n",
    "#A block is a piece of python program text that is executed as a unit.\n",
    "#The following are blocks:\n",
    "#    1. A modulo\n",
    "#    2. A function body\n",
    "#    3. A class definition"
   ]
  },
  {
   "cell_type": "markdown",
   "id": "54666009",
   "metadata": {},
   "source": [
    "Q7. State a character used to give single—line comments in Python?"
   ]
  },
  {
   "cell_type": "code",
   "execution_count": 7,
   "id": "f98412a1",
   "metadata": {},
   "outputs": [],
   "source": [
    "#The character used to give single-line comments in python is \"#\"."
   ]
  },
  {
   "cell_type": "markdown",
   "id": "4c9fc4af",
   "metadata": {},
   "source": [
    "Q8. Mention functions which can help us to find the version of python that we are currently working on?"
   ]
  },
  {
   "cell_type": "code",
   "execution_count": 8,
   "id": "fbfe022f",
   "metadata": {},
   "outputs": [],
   "source": [
    "#The function sys.version can help us find the version of the python that we are currently working on."
   ]
  },
  {
   "cell_type": "code",
   "execution_count": 9,
   "id": "aba87c12",
   "metadata": {},
   "outputs": [
    {
     "name": "stderr",
     "output_type": "stream",
     "text": [
      "unknown option --version#\n",
      "usage: python [option] ... [-c cmd | -m mod | file | -] [arg] ...\n",
      "Try `python -h' for more information.\n"
     ]
    }
   ],
   "source": [
    "!python --version# Used to find the version of python in jupyter notebook"
   ]
  },
  {
   "cell_type": "markdown",
   "id": "d359da38",
   "metadata": {},
   "source": [
    "Q9.Python supports the creation of anonymous functions at runtime, using a construct called ______."
   ]
  },
  {
   "cell_type": "code",
   "execution_count": 10,
   "id": "190dcdde",
   "metadata": {},
   "outputs": [],
   "source": [
    "#Python supports the creation of anonymous functions at runtme, using a construct called Lambda."
   ]
  },
  {
   "cell_type": "markdown",
   "id": "b0fa7e16",
   "metadata": {},
   "source": [
    "Q10. What does pip stand for python?"
   ]
  },
  {
   "cell_type": "code",
   "execution_count": 11,
   "id": "7acedc4d",
   "metadata": {},
   "outputs": [],
   "source": [
    "#PIP in python refers to \"Preferred installer program\" \n",
    "#which is used to install, re-install, or uninstall packages from Python Package Index(PyPI)."
   ]
  },
  {
   "cell_type": "markdown",
   "id": "5e7a7197",
   "metadata": {},
   "source": [
    "Q11.Mention a few in-built functions in python."
   ]
  },
  {
   "cell_type": "code",
   "execution_count": 12,
   "id": "88b172ae",
   "metadata": {},
   "outputs": [],
   "source": [
    "#A few in-built functions in python are as follows:\n",
    "#1. abs() - Returns the absolute value of a number\n",
    "#2. all() - Returns True if all items in an iterable object are true\n",
    "#3. any() - Returns True if any item in an iterable object is true\n",
    "#4. ascii()-Returns a readable version of an object. Replaces none-ascii characters with escape character\n",
    "#5. bin() - Returns the binary version of a number\n",
    "#6. bool() - Returns the boolean value of the specified object\n",
    "#7. bytearray() - Returns an array of bytes\n",
    "#8. bytes() - Returns a bytes object\n",
    "#9. callable() - Returns True if the specified object is callable, otherwise False\n",
    "#10.chr() - Returns a character from the specified Unicode code.\n",
    "#11.classmethod() - Converts a method into a class method\n",
    "#12.compile() - Returns the specified source as an object, ready to be executed\n",
    "#13.complex() - Returns a complex number\n",
    "#14.delattr() - Deletes the specified attribute (property or method) from the specified object\n",
    "#15.dict() - Returns a dictionary (Array)\n",
    "#16.dir() - Returns a list of the specified object's properties and methods\n",
    "#17.divmod()-Returns the quotient and the remainder when argument1 is divided by argument2\n",
    "#18.enumerate() - Takes a collection (e.g. a tuple) and returns it as an enumerate object\n",
    "#19.eval()-Evaluates and executes an expression\n",
    "#20.exec()-Executes the specified code (or object)\n",
    "#21.filter()-Use a filter function to exclude items in an iterable object\n",
    "#22.float()-Returns a floating point number\n",
    "#23.format()-Formats a specified value\n",
    "#24.frozenset()-Returns a frozenset object\n",
    "#25.getattr() - Returns the value of the specified attribute (property or method)\n",
    "#26.globals() - Returns the current global symbol table as a dictionary\n",
    "#27.hasattr() - Returns True if the specified object has the specified attribute (property/method)\n",
    "#28.hash() - Returns the hash value of a specified object\n",
    "#29.help() - Executes the built-in help system\n",
    "#30.hex() - Converts a number into a hexadecimal value\n",
    "#31.id() - Returns the id of an object\n",
    "#32.input() - Allowing user input\n",
    "#33.int() - Returns an integer number\n",
    "#34.isinstance() - Returns True if a specified object is an instance of a specified object\n",
    "#35.issubclass() - Returns True if a specified class is a subclass of a specified object\n",
    "#36.iter() - Returns an iterator object\n",
    "#37.len() - Returns the length of an object\n",
    "#38.list() - Returns a list\n",
    "#39.locals() - Returns an updated dictionary of the current local symbol table\n",
    "#40.map() - Returns the specified iterator with the specified function applied to each item\n",
    "#41.max() - Returns the largest item in an iterable\n",
    "#42.memoryview()-Returns a memory view object\n",
    "#43.min() - Returns the smallest item in an iterable\n",
    "#44.next() - Returns the next item in an iterable\n",
    "#45.object() - Returns a new object\n",
    "#46.oct() - Converts a number into an octal\n",
    "#47.open() - Opens a file and returns a file object\n",
    "#48.ord() - Convert an integer representing the Unicode of the specified character\n",
    "#49.pow() - Returns the value of x to the power of y\n",
    "#50.print() - Prints to the standard output device\n",
    "#51.property() - Gets, sets, deletes a property\n",
    "#52.range() - Returns a sequence of numbers, starting from 0 and increments by 1 (by default)\n",
    "#53.repr() - Returns a readable version of an object\n",
    "#54.reversed() - Returns a reversed iterator\n",
    "#55.round() - Rounds a numbers\n",
    "#56.set() - Returns a new set object\n",
    "#57.setattr() - Sets an attribute (property/method) of an object\n",
    "#58.slice() - Returns a slice object\n",
    "#59.sorted()- Returns a sorted list\n",
    "#60.staticmethod() - Converts a method into a static method\n",
    "#61.str() - Returns a string object\n",
    "#62.sum() - Sums the items of an iterator\n",
    "#63.super()- Returns an object that represents the parent class\n",
    "#64.tuple() - Returns a tuple\n",
    "#65.type() - Returns the type of an object\n",
    "#66.vars() - Returns the __dict__ property of an object\n",
    "#67.zip() - Returns an iterator, from two or more iterators"
   ]
  },
  {
   "cell_type": "markdown",
   "id": "ab483cd4",
   "metadata": {},
   "source": [
    "Q12. What is the maximum possible length of an identifier in Python?"
   ]
  },
  {
   "cell_type": "code",
   "execution_count": 13,
   "id": "4ece3979",
   "metadata": {},
   "outputs": [],
   "source": [
    "#The maximum possible length of an identifier in python is 79 characters. "
   ]
  },
  {
   "cell_type": "markdown",
   "id": "566b23e2",
   "metadata": {},
   "source": [
    "Q13. What are the benefits Of using Python?"
   ]
  },
  {
   "cell_type": "code",
   "execution_count": 14,
   "id": "c3639b2f",
   "metadata": {},
   "outputs": [],
   "source": [
    "#The benefits of using the python language are as follows:\n",
    "#1.Presence of third-party modules: Python has a rich ecosystem of third-party modules and libraries that extend\n",
    "#                                   its functionality for various tasks.\n",
    "#2.Extensive support libraries: Python boasts extensive support libraries like NumPy for numerical calculations \n",
    "#                               and Pandas for data analytics, making it suitable for scientific and data-related applications. \n",
    "#3.Open source and large active community base: Python is open source, and it has a large and active community \n",
    "#                                               that contributes to its development and provides support.\n",
    "#4.Versatile, easy to read, learn, and write: Python is known for its simplicity and readability, making it an excellent\n",
    "#                                            choice for both beginners and experienced programmers.\n",
    "#5.User-friendly data structures: Python offers intuitive and easy-to-use data structures, simplifying data manipulation \n",
    "#                                 and management.\n",
    "#6.High-level language: Python is a high-level language that abstracts low-level details, making it more user-friendly.\n",
    "#7.Dynamically typed language: Python is dynamically typed, meaning you don’t need to declare data types explicitly, making\n",
    "#                              it flexible but still reliable.\n",
    "#8.Object-Oriented and Procedural programming language: Python supports both object-oriented and procedural programming, \n",
    "#                                                       providing versatility in coding styles.\n",
    "#9.Portable and interactive: Python is portable across operating systems and interactive, allowing real-time code execution \n",
    "#                            and testing.\n",
    "#10.Ideal for prototypes: Python’s concise syntax allows developers to prototype applications quickly with less code.\n",
    "#11.Highly efficient: Python’s clean design provides enhanced process control, and it has excellent text processing \n",
    "#                     capabilities, making it efficient for various applications.\n",
    "#12.Internet of Things (IoT) opportunities: Python is used in IoT applications due to its simplicity and versatility.\n",
    "#13.Interpreted language: Python is interpreted, which allows for easier debugging and code development"
   ]
  },
  {
   "cell_type": "markdown",
   "id": "494f837b",
   "metadata": {},
   "source": [
    "Q14.How is memory managed in Python?"
   ]
  },
  {
   "cell_type": "code",
   "execution_count": 15,
   "id": "41302883",
   "metadata": {},
   "outputs": [],
   "source": [
    "#In Python memory allocation and deallocation method is automatic as the Python developers created a garbage \n",
    "#collector for Python so that the user does not have to do manual garbage collection."
   ]
  },
  {
   "cell_type": "markdown",
   "id": "cd5a00f9",
   "metadata": {},
   "source": [
    "Q15. How to install Python on Windows and set path variables?"
   ]
  },
  {
   "cell_type": "code",
   "execution_count": 16,
   "id": "8381e183",
   "metadata": {},
   "outputs": [],
   "source": [
    "#Step 1: Select Python Version\n",
    "#Deciding on a version depends on what you want to do in Python.\n",
    "#The two major versions are Python 2 and Python 3. Choosing one over the other might be better depending on your project details. \n",
    "#If there are no constraints, choose whichever one you prefer.\n",
    "#We recommend Python 3, as Python 2 reached its end of life in 2020.\n",
    "#Download Python 2 only if you work with legacy scripts and older projects. \n",
    "#Also, choose a stable release over the newest since the newest release may have bugs and issues.\n",
    "\n",
    "#Step 2: Download Python Executable Installer\n",
    "#Start by downloading the Python executable installer for Windows:\n",
    "#1. Open a web browser and navigate to the Downloads for Windows section of the official Python website.\n",
    "#2. Locate the desired Python version.\n",
    "#3. Click the link to download the file. Choose either the Windows 32-bit or 64-bit installer.\n",
    "#The download is approximately 25MB\n",
    "\n",
    "#Step 3: Run Executable Installer\n",
    "#The steps below guide you through the installation process:\n",
    "#1. Run the downloaded Python Installer.\n",
    "#2. The installation window shows two checkboxes:\n",
    "#Admin privileges: The parameter controls whether to install Python for the current or all system users. \n",
    "#This option allows you to change the installation folder for Python.\n",
    "#Add Python to PATH: The second option places the executable in the PATH variable after installation.\n",
    "#You can also add Python to the PATH environment variable manually later.\n",
    "#For the most straightforward installation, we recommend ticking both checkboxes.\n",
    "#3. Select the Install Now option for the recommended installation (in that case, skip the next two steps).\n",
    "#To adjust the default installation options, choose Customize installation instead and proceed to the following step.\n",
    "#The default installation installs Python to C:\\Users\\[user]\\AppData\\Local\\Programs\\Python\\Python[version] for the current user.\n",
    "#It includes IDLE (the default Python editor), the PIP package manager, and additional documentation. \n",
    "#The installer also creates necessary shortcuts and file associations.\n",
    "#Customizing the installation allows changing these installation options and parameters.\n",
    "#4. Choose the optional installation features. Python works without these features, \n",
    "#but adding them improves the program's usability.\n",
    "#Click Next to proceed to the Advanced Options screen.\n",
    "#5. The second part of customizing the installation includes advanced options.\n",
    "#Choose whether to install Python for all users. The option changes the install location to C:\\Program Files\\Python[version].\n",
    "#If selecting the location manually, a common choice is C:\\Python[version] because it avoids spaces in the path, \n",
    "#and all users can access it. Due to administrative rights, both paths may cause issues during package installation.\n",
    "#Other advanced options include creating shortcuts, file associations, and adding Python to PATH.\n",
    "#After picking the appropriate options, click Install to start the installation.\n",
    "#6. Select whether to disable the path length limit. Choosing this option will allow Python to bypass the \n",
    "#260-character MAX_PATH limit.\n",
    "#The option will not affect any other system settings, and disabling it resolves potential name-length issues. We recommend selecting the option and closing the setup.\n",
    "\n",
    "#Step 4: Add Python to Path (Optional)\n",
    "#If the Python installer does not include the Add Python to PATH checkbox or you have not selected that option,\n",
    "#continue in this step. Otherwise, skip to the next step.\n",
    "#Adding the Python path to the PATH variable alleviates the need to use the full path to access the Python program \n",
    "#in the command line. It instructs Windows to review all the folders added to the PATH environment variable and to \n",
    "#look for the python.exe program in those folders.\n",
    "#To add Python to PATH, do the following:\n",
    "#1. In the Start menu, search for Environment Variables and press Enter.\n",
    "#2. Click Environment Variables to open the overview screen.\n",
    "#3. Double-click Path on the list to edit it.\n",
    "#Alternatively, select the variable and click the Edit button.\n",
    "#4. Double-click the first empty field and paste the Python installation folder path.\n",
    "#Alternatively, click the New button instead and paste the path.\n",
    "#5. Click OK to save the changes. If the command prompt is open, restart it for the following step."
   ]
  },
  {
   "cell_type": "markdown",
   "id": "a9d55455",
   "metadata": {},
   "source": [
    "Q16. Is indentation required in python?"
   ]
  },
  {
   "cell_type": "code",
   "execution_count": 17,
   "id": "f041f787",
   "metadata": {},
   "outputs": [],
   "source": [
    "#Indentation is mandatory in python to define the blocks of statements. The number of spaces must be uniform in a block of code.\n",
    "#It is preferred to use whitespaces instead of tabs to indent in python."
   ]
  }
 ],
 "metadata": {
  "kernelspec": {
   "display_name": "Python 3 (ipykernel)",
   "language": "python",
   "name": "python3"
  },
  "language_info": {
   "codemirror_mode": {
    "name": "ipython",
    "version": 3
   },
   "file_extension": ".py",
   "mimetype": "text/x-python",
   "name": "python",
   "nbconvert_exporter": "python",
   "pygments_lexer": "ipython3",
   "version": "3.10.9"
  }
 },
 "nbformat": 4,
 "nbformat_minor": 5
}
